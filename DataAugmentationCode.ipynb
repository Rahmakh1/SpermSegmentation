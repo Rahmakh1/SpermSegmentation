{
 "cells": [
  {
   "cell_type": "markdown",
   "id": "3e69083a",
   "metadata": {},
   "source": [
    "## 1.Installation of the necessary libraries"
   ]
  },
  {
   "cell_type": "code",
   "execution_count": 1,
   "id": "b5259400",
   "metadata": {
    "collapsed": true
   },
   "outputs": [
    {
     "name": "stdout",
     "output_type": "stream",
     "text": [
      "Requirement already satisfied: opencv-python in c:\\users\\lenovo\\anaconda3\\lib\\site-packages (4.10.0.84)\n",
      "Collecting albumentations\n",
      "  Using cached albumentations-1.4.11-py3-none-any.whl.metadata (39 kB)\n",
      "Requirement already satisfied: numpy>=1.21.2 in c:\\users\\lenovo\\anaconda3\\lib\\site-packages (from opencv-python) (1.26.4)\n",
      "Requirement already satisfied: scipy>=1.10.0 in c:\\users\\lenovo\\anaconda3\\lib\\site-packages (from albumentations) (1.11.4)\n",
      "Requirement already satisfied: scikit-image>=0.21.0 in c:\\users\\lenovo\\anaconda3\\lib\\site-packages (from albumentations) (0.22.0)\n",
      "Requirement already satisfied: PyYAML in c:\\users\\lenovo\\anaconda3\\lib\\site-packages (from albumentations) (6.0.1)\n",
      "Requirement already satisfied: typing-extensions>=4.9.0 in c:\\users\\lenovo\\anaconda3\\lib\\site-packages (from albumentations) (4.9.0)\n",
      "Collecting scikit-learn>=1.3.2 (from albumentations)\n",
      "  Using cached scikit_learn-1.5.1-cp311-cp311-win_amd64.whl.metadata (12 kB)\n",
      "Collecting pydantic>=2.7.0 (from albumentations)\n",
      "  Using cached pydantic-2.8.2-py3-none-any.whl.metadata (125 kB)\n",
      "Collecting albucore>=0.0.11 (from albumentations)\n",
      "  Using cached albucore-0.0.12-py3-none-any.whl.metadata (3.1 kB)\n",
      "Collecting eval-type-backport (from albumentations)\n",
      "  Using cached eval_type_backport-0.2.0-py3-none-any.whl.metadata (2.2 kB)\n",
      "Collecting opencv-python-headless>=4.9.0.80 (from albumentations)\n",
      "  Using cached opencv_python_headless-4.10.0.84-cp37-abi3-win_amd64.whl.metadata (20 kB)\n",
      "Requirement already satisfied: tomli>=2.0.1 in c:\\users\\lenovo\\anaconda3\\lib\\site-packages (from albucore>=0.0.11->albumentations) (2.0.1)\n",
      "Collecting annotated-types>=0.4.0 (from pydantic>=2.7.0->albumentations)\n",
      "  Using cached annotated_types-0.7.0-py3-none-any.whl.metadata (15 kB)\n",
      "Requirement already satisfied: pydantic-core==2.20.1 in c:\\users\\lenovo\\anaconda3\\lib\\site-packages (from pydantic>=2.7.0->albumentations) (2.20.1)\n",
      "Requirement already satisfied: networkx>=2.8 in c:\\users\\lenovo\\anaconda3\\lib\\site-packages (from scikit-image>=0.21.0->albumentations) (3.1)\n",
      "Requirement already satisfied: pillow>=9.0.1 in c:\\users\\lenovo\\anaconda3\\lib\\site-packages (from scikit-image>=0.21.0->albumentations) (10.2.0)\n",
      "Requirement already satisfied: imageio>=2.27 in c:\\users\\lenovo\\anaconda3\\lib\\site-packages (from scikit-image>=0.21.0->albumentations) (2.33.1)\n",
      "Requirement already satisfied: tifffile>=2022.8.12 in c:\\users\\lenovo\\anaconda3\\lib\\site-packages (from scikit-image>=0.21.0->albumentations) (2023.4.12)\n",
      "Requirement already satisfied: packaging>=21 in c:\\users\\lenovo\\anaconda3\\lib\\site-packages (from scikit-image>=0.21.0->albumentations) (23.1)\n",
      "Requirement already satisfied: lazy_loader>=0.3 in c:\\users\\lenovo\\anaconda3\\lib\\site-packages (from scikit-image>=0.21.0->albumentations) (0.3)\n",
      "Requirement already satisfied: joblib>=1.2.0 in c:\\users\\lenovo\\anaconda3\\lib\\site-packages (from scikit-learn>=1.3.2->albumentations) (1.2.0)\n",
      "Requirement already satisfied: threadpoolctl>=3.1.0 in c:\\users\\lenovo\\anaconda3\\lib\\site-packages (from scikit-learn>=1.3.2->albumentations) (3.5.0)\n",
      "Using cached albumentations-1.4.11-py3-none-any.whl (165 kB)\n",
      "Using cached albucore-0.0.12-py3-none-any.whl (8.4 kB)\n",
      "Using cached opencv_python_headless-4.10.0.84-cp37-abi3-win_amd64.whl (38.8 MB)\n",
      "Using cached pydantic-2.8.2-py3-none-any.whl (423 kB)\n",
      "Using cached scikit_learn-1.5.1-cp311-cp311-win_amd64.whl (11.0 MB)\n",
      "Using cached eval_type_backport-0.2.0-py3-none-any.whl (5.9 kB)\n",
      "Using cached annotated_types-0.7.0-py3-none-any.whl (13 kB)\n",
      "Installing collected packages: opencv-python-headless, eval-type-backport, annotated-types, scikit-learn, pydantic, albucore, albumentations\n",
      "  Attempting uninstall: scikit-learn\n",
      "    Found existing installation: scikit-learn 1.2.2\n",
      "    Uninstalling scikit-learn-1.2.2:\n",
      "      Successfully uninstalled scikit-learn-1.2.2\n",
      "  Attempting uninstall: pydantic\n",
      "    Found existing installation: pydantic 1.10.12\n",
      "    Uninstalling pydantic-1.10.12:\n",
      "      Successfully uninstalled pydantic-1.10.12\n",
      "Successfully installed albucore-0.0.12 albumentations-1.4.11 annotated-types-0.7.0 eval-type-backport-0.2.0 opencv-python-headless-4.10.0.84 pydantic-2.8.2 scikit-learn-1.5.1\n",
      "Note: you may need to restart the kernel to use updated packages.\n"
     ]
    },
    {
     "name": "stderr",
     "output_type": "stream",
     "text": [
      "  WARNING: Failed to remove contents in a temporary directory 'C:\\Users\\Lenovo\\anaconda3\\Lib\\site-packages\\~ydantic'.\n",
      "  You can safely remove it manually.\n"
     ]
    }
   ],
   "source": [
    "pip install opencv-python albumentations"
   ]
  },
  {
   "cell_type": "markdown",
   "id": "087864ec",
   "metadata": {},
   "source": [
    "## 2. Import required libraries and import paths"
   ]
  },
  {
   "cell_type": "code",
   "execution_count": 1,
   "id": "21175781",
   "metadata": {},
   "outputs": [],
   "source": [
    "import os\n",
    "import cv2\n",
    "import albumentations as A"
   ]
  },
  {
   "cell_type": "code",
   "execution_count": 10,
   "id": "d96b5b4c",
   "metadata": {},
   "outputs": [],
   "source": [
    "# Define paths\n",
    "train_images_dir = 'C:/Users/Lenovo/Downloads/SegSperm/SegSperm/train/images'\n",
    "train_masks_dir = 'C:/Users/Lenovo/Downloads/SegSperm/SegSperm/train/GT1_full'\n",
    "augmented_images_dir = 'C:/Users/Lenovo/Downloads/SegSperm/AugmentedSegSperm/ground_truth'\n",
    "augmented_masks_dir = 'C:/Users/Lenovo/Downloads/SegSperm/AugmentedSegSperm/binary_mask'\n"
   ]
  },
  {
   "cell_type": "markdown",
   "id": "fec9c879",
   "metadata": {},
   "source": [
    "## 3. Applying the augmentations"
   ]
  },
  {
   "cell_type": "code",
   "execution_count": 4,
   "id": "0fd6154f",
   "metadata": {},
   "outputs": [],
   "source": [
    "# Define augmentations\n",
    "rotations = [45, 90]\n",
    "flips = ['horizontal', 'vertical']"
   ]
  },
  {
   "attachments": {
    "download.png": {
     "image/png": "[encoded data removed]"
    }
   },
   "cell_type": "markdown",
   "id": "b27d737c",
   "metadata": {},
   "source": [
    "![download.png](attachment:download.png)"
   ]
  },
  {
   "cell_type": "code",
   "execution_count": 5,
   "id": "4af6fc74",
   "metadata": {},
   "outputs": [],
   "source": [
    "# Function to apply augmentations and save images\n",
    "def augment_and_save(image_path, mask_path, image_name, suffix):\n",
    "    # Read the image and the corresponding mask\n",
    "    image = cv2.imread(image_path)\n",
    "    mask = cv2.imread(mask_path, cv2.IMREAD_GRAYSCALE)\n",
    "\n",
    "    # Apply rotation\n",
    "    if suffix.startswith('rot'):\n",
    "        angle = int(suffix.split('_')[1])\n",
    "        transform = A.Rotate(limit=(angle, angle), p=1.0)\n",
    "        augmented = transform(image=image, mask=mask)\n",
    "        augmented_image = augmented['image']\n",
    "        augmented_mask = augmented['mask']\n",
    "    # Apply flip\n",
    "    elif suffix == 'hflip':\n",
    "        transform = A.HorizontalFlip(p=1.0)\n",
    "        augmented = transform(image=image, mask=mask)\n",
    "        augmented_image = augmented['image']\n",
    "        augmented_mask = augmented['mask']\n",
    "    elif suffix == 'vflip':\n",
    "        transform = A.VerticalFlip(p=1.0)\n",
    "        augmented = transform(image=image, mask=mask)\n",
    "        augmented_image = augmented['image']\n",
    "        augmented_mask = augmented['mask']\n",
    "    \n",
    "    # Save augmented images and masks\n",
    "    cv2.imwrite(os.path.join(augmented_images_dir, f\"{image_name}_{suffix}.png\"), augmented_image)\n",
    "    cv2.imwrite(os.path.join(augmented_masks_dir, f\"{image_name}_{suffix}.png\"), augmented_mask)\n",
    "\n"
   ]
  },
  {
   "cell_type": "code",
   "execution_count": 8,
   "id": "b466982e",
   "metadata": {},
   "outputs": [],
   "source": [
    "# Get list of images \n",
    "image_files = os.listdir(train_images_dir)"
   ]
  },
  {
   "cell_type": "code",
   "execution_count": 11,
   "id": "f35bb572",
   "metadata": {},
   "outputs": [
    {
     "name": "stdout",
     "output_type": "stream",
     "text": [
      "Augmentation completed and images saved.\n"
     ]
    }
   ],
   "source": [
    "# Process each image and its corresponding mask\n",
    "for image_file in image_files:\n",
    "    image_name, _ = os.path.splitext(image_file)\n",
    "    image_path = os.path.join(train_images_dir, image_file)\n",
    "    mask_path = os.path.join(train_masks_dir, image_file)\n",
    "\n",
    "    # Check if the corresponding mask exists\n",
    "    if os.path.exists(mask_path):\n",
    "        # Apply rotations\n",
    "        for angle in rotations:\n",
    "            augment_and_save(image_path, mask_path, image_name, f\"rot_{angle}\")\n",
    "\n",
    "        # Apply flips\n",
    "        for flip in flips:\n",
    "            augment_and_save(image_path, mask_path, image_name, f\"{flip[0]}flip\")\n",
    "\n",
    "print(\"Augmentation completed and images saved.\")"
   ]
  },
  {
   "cell_type": "code",
   "execution_count": null,
   "id": "8d181bdd",
   "metadata": {},
   "outputs": [],
   "source": []
  }
 ],
 "metadata": {
  "kernelspec": {
   "display_name": "Python 3 (ipykernel)",
   "language": "python",
   "name": "python3"
  },
  "language_info": {
   "codemirror_mode": {
    "name": "ipython",
    "version": 3
   },
   "file_extension": ".py",
   "mimetype": "text/x-python",
   "name": "python",
   "nbconvert_exporter": "python",
   "pygments_lexer": "ipython3",
   "version": "3.11.7"
  }
 },
 "nbformat": 4,
 "nbformat_minor": 5
}
